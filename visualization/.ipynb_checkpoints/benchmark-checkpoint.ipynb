{
 "cells": [
  {
   "cell_type": "code",
   "execution_count": 51,
   "id": "8f90d57c-4cb8-4273-b4bd-a0fcdf389cd0",
   "metadata": {},
   "outputs": [],
   "source": [
    "import matplotlib.pyplot as plt\n",
    "import numpy as np"
   ]
  },
  {
   "cell_type": "code",
   "execution_count": 52,
   "id": "63d0d768-db9c-4734-bae7-f60769329d22",
   "metadata": {},
   "outputs": [],
   "source": [
    "blinkplus_broad_path = \"../blinkplus_examples/logs/blinkplus_broadcast.log\"\n",
    "nccl_broad_path = \"../blinkplus_examples/logs/nccl_broadcast.log\"\n",
    "int_size = 4\n",
    "font_size = 20"
   ]
  },
  {
   "cell_type": "code",
   "execution_count": 53,
   "id": "221052ee-fe39-4c70-9acb-81f0783d8eb1",
   "metadata": {},
   "outputs": [],
   "source": [
    "def get_data_time(path):\n",
    "    data_points = []\n",
    "    bw_points = []\n",
    "    time_points = []\n",
    "    with open(path, 'r') as f:\n",
    "        lines = f.readlines()\n",
    "        for l in lines:\n",
    "            if \"Initial\" in l:\n",
    "                #print(l.split(\" \"))\n",
    "                data_points.append(int(l.split(\" \")[-2]))\n",
    "            if \"Average\" in l:\n",
    "                time_points.append(float(l[:-1].split(\" \")[-5])) \n",
    "                bw_points.append(float(l[:-1].split(\" \")[-2])) \n",
    "    return np.array(data_points), np.array(time_points), np.array(bw_points)"
   ]
  },
  {
   "cell_type": "code",
   "execution_count": null,
   "id": "7facb9d5-b927-440e-80d6-b2f14623477d",
   "metadata": {},
   "outputs": [],
   "source": []
  },
  {
   "cell_type": "code",
   "execution_count": 82,
   "id": "2dbbe101-7fbf-4d00-981a-6603680fd0b2",
   "metadata": {},
   "outputs": [
    {
     "data": {
      "image/png": "[encoded data removed]",
      "text/plain": [
       "<Figure size 720x360 with 1 Axes>"
      ]
     },
     "metadata": {
      "needs_background": "light"
     },
     "output_type": "display_data"
    }
   ],
   "source": [
    "data_points, time_points, bw_points = get_data_time(blinkplus_broad_path)\n",
    "nccl_data_points, nccl_time_points, nccl_bw_points = get_data_time(nccl_broad_path)\n",
    "X_axis = np.arange(len(data_points))\n",
    "\n",
    "fig = plt.figure(figsize = (10, 5))\n",
    " \n",
    "data_points_ticks = [str(item) for item in data_points]\n",
    "plt.bar(X_axis- 0.15, bw_points, width = 0.3, label='BlinkPlus')\n",
    "plt.bar(X_axis+ 0.15, nccl_bw_points, width = 0.3, label='NCCL (customized)')\n",
    "plt.xticks(X_axis, data_points_ticks)\n",
    "\n",
    "\n",
    "plt.xlabel(\"Data (MB)\")\n",
    "plt.ylabel(\"BandWidth(GB/s)\")\n",
    "plt.legend(fontsize=font_size-5)\n",
    "plt.xticks(fontsize=font_size-8)\n",
    "plt.yticks(fontsize=font_size-5)\n",
    "plt.show()\n"
   ]
  },
  {
   "cell_type": "code",
   "execution_count": null,
   "id": "d8c331c1-0a6e-4471-9103-f08fe891c476",
   "metadata": {},
   "outputs": [],
   "source": []
  },
  {
   "cell_type": "code",
   "execution_count": null,
   "id": "918ebb9d-e1ad-4cf6-8d2a-bb3bc93191b7",
   "metadata": {},
   "outputs": [],
   "source": []
  }
 ],
 "metadata": {
  "kernelspec": {
   "display_name": "Python 3 (ipykernel)",
   "language": "python",
   "name": "python3"
  },
  "language_info": {
   "codemirror_mode": {
    "name": "ipython",
    "version": 3
   },
   "file_extension": ".py",
   "mimetype": "text/x-python",
   "name": "python",
   "nbconvert_exporter": "python",
   "pygments_lexer": "ipython3",
   "version": "3.9.12"
  }
 },
 "nbformat": 4,
 "nbformat_minor": 5
}
